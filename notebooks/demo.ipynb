{
 "cells": [
  {
   "cell_type": "code",
   "execution_count": null,
   "id": "0c874e02",
   "metadata": {},
   "outputs": [
    {
     "ename": "",
     "evalue": "",
     "output_type": "error",
     "traceback": [
      "\u001b[1;31mFailed to start the Kernel. \n",
      "\u001b[1;31mThe kernel died. Error: ... View Jupyter <a href='command:jupyter.viewOutput'>log</a> for further details."
     ]
    }
   ],
   "source": [
    "print(\"Hello, world!\")"
   ]
  },
  {
   "cell_type": "code",
   "execution_count": null,
   "id": "01eb2742",
   "metadata": {},
   "outputs": [
    {
     "ename": "",
     "evalue": "",
     "output_type": "error",
     "traceback": [
      "\u001b[1;31mFailed to start the Kernel. \n",
      "\u001b[1;31mThe kernel died. Error: ... View Jupyter <a href='command:jupyter.viewOutput'>log</a> for further details."
     ]
    }
   ],
   "source": [
    "# --- Core imports\n",
    "import pandas as pd\n",
    "\n",
    "# --- Your project modules\n",
    "from src.data import get_price_data\n",
    "from src.strategies import signal_sma_crossover, signal_mean_reversion, align_next_bar\n",
    "from src.engine import run_backtest\n",
    "from src.metrics import summarize_performance, extract_trades, trade_stats, drawdown_series\n",
    "\n",
    "# --- Plots\n",
    "import matplotlib.pyplot as plt\n",
    "\n",
    "# Display options\n",
    "pd.set_option(\"display.expand_frame_repr\", False)"
   ]
  },
  {
   "cell_type": "code",
   "execution_count": null,
   "id": "92a3f977",
   "metadata": {},
   "outputs": [],
   "source": [
    "TICKERS = [\"AAPL\", \"MSFT\"] \n",
    "START = \"2022-01-01\"\n",
    "END   = \"2022-12-31\"\n",
    "\n",
    "# Strategy params\n",
    "SMA_FAST = 20\n",
    "SMA_SLOW = 50\n",
    "\n",
    "MR_LOOKBACK = 20\n",
    "MR_ENTRY = 1.0\n",
    "MR_EXIT  = 0.2\n",
    "\n",
    "INITIAL_CASH = 100_000\n",
    "FEE_BPS = 1.0\n",
    "SLIP_BPS = 0.0\n"
   ]
  },
  {
   "cell_type": "code",
   "execution_count": null,
   "id": "c4b243b1",
   "metadata": {},
   "outputs": [],
   "source": [
    "df = get_price_data(TICKERS, START, END)\n",
    "\n",
    "# Convenience helpers\n",
    "def get_cols(symbol: str):\n",
    "    return df[(symbol, \"Close\")], (df[(symbol, \"Open\")] if (\"Open\" in df[symbol].columns) else None)\n",
    "\n",
    "df.head(3)"
   ]
  },
  {
   "cell_type": "code",
   "execution_count": null,
   "id": "90c09d91",
   "metadata": {},
   "outputs": [],
   "source": [
    "# Pick one to explore first\n",
    "SYM = \"AAPL\"\n",
    "close, open_ = get_cols(SYM)\n",
    "\n",
    "sig_sma_raw = signal_sma_crossover(close, fast=SMA_FAST, slow=SMA_SLOW)\n",
    "sig_mr_raw  = signal_mean_reversion(close, lookback=MR_LOOKBACK, entry=MR_ENTRY, exit=MR_EXIT)\n",
    "\n",
    "# Align to trade next bar (no look-ahead)\n",
    "sig_sma = align_next_bar(sig_sma_raw)\n",
    "sig_mr  = align_next_bar(sig_mr_raw)\n",
    "\n",
    "sig_sma.head(10), sig_mr.head(10)"
   ]
  },
  {
   "cell_type": "code",
   "execution_count": null,
   "id": "82d81d5a",
   "metadata": {},
   "outputs": [],
   "source": [
    "bt_sma = run_backtest(close, sig_sma, open_=open_, initial_cash=INITIAL_CASH, fee_bps=FEE_BPS, slippage_bps=SLIP_BPS)\n",
    "bt_mr  = run_backtest(close, sig_mr,  open_=open_, initial_cash=INITIAL_CASH, fee_bps=FEE_BPS, slippage_bps=SLIP_BPS)\n",
    "\n",
    "sum_sma = summarize_performance(bt_sma[\"equity\"])\n",
    "sum_mr  = summarize_performance(bt_mr[\"equity\"])\n",
    "\n",
    "print(\"Summary (SMA):\", sum_sma)\n",
    "print(\"Summary (MR): \", sum_mr)\n",
    "\n",
    "tr_sma = extract_trades(bt_sma)\n",
    "tr_mr  = extract_trades(bt_mr)\n",
    "print(\"\\nTrades (SMA):\")\n",
    "display(tr_sma)\n",
    "print(\"\\nTrade stats (SMA):\", trade_stats(tr_sma))\n",
    "\n",
    "print(\"\\nTrades (MR):\")\n",
    "display(tr_mr)\n",
    "print(\"\\nTrade stats (MR):\", trade_stats(tr_mr))"
   ]
  },
  {
   "cell_type": "code",
   "execution_count": null,
   "id": "4d62b2c2",
   "metadata": {},
   "outputs": [],
   "source": [
    "def plot_equity(equity, title=\"Equity Curve\"):\n",
    "    plt.figure(figsize=(10,4))\n",
    "    plt.plot(equity.index, equity.values, label=\"Equity\")\n",
    "    plt.title(title); plt.ylabel(\"Equity ($)\"); plt.xlabel(\"Date\")\n",
    "    plt.grid(alpha=0.3); plt.legend(); plt.show()\n",
    "\n",
    "def plot_drawdown(equity, title=\"Drawdown\"):\n",
    "    dd = drawdown_series(equity)\n",
    "    plt.figure(figsize=(10,3))\n",
    "    plt.fill_between(dd.index, dd.values, 0, alpha=0.3)\n",
    "    plt.title(title); plt.ylabel(\"Drawdown (fraction)\"); plt.xlabel(\"Date\")\n",
    "    plt.show()\n",
    "\n",
    "plot_equity(bt_sma[\"equity\"], title=f\"{SYM} – SMA {SMA_FAST}/{SMA_SLOW} Equity\")\n",
    "plot_drawdown(bt_sma[\"equity\"], title=f\"{SYM} – SMA Drawdown\")\n",
    "\n",
    "plot_equity(bt_mr[\"equity\"],  title=f\"{SYM} – Mean Reversion Equity\")\n",
    "plot_drawdown(bt_mr[\"equity\"], title=f\"{SYM} – Mean Reversion Drawdown\")"
   ]
  },
  {
   "cell_type": "code",
   "execution_count": null,
   "id": "9045a53d",
   "metadata": {},
   "outputs": [],
   "source": [
    "def plot_signals(close, signal, title=\"Price + Signals\"):\n",
    "    plt.figure(figsize=(10,4))\n",
    "    plt.plot(close.index, close.values, label=\"Close\")\n",
    "    buys  = close.index[(signal.diff() > 0)]\n",
    "    sells = close.index[(signal.diff() < 0)]\n",
    "    plt.scatter(buys,  close.loc[buys],  marker=\"^\", label=\"Buy\")\n",
    "    plt.scatter(sells, close.loc[sells], marker=\"v\", label=\"Sell\")\n",
    "    plt.title(title); plt.legend(); plt.grid(alpha=0.3); plt.show()\n",
    "\n",
    "plot_signals(close, sig_sma, title=f\"{SYM} – SMA {SMA_FAST}/{SMA_SLOW} Signals\")"
   ]
  },
  {
   "cell_type": "code",
   "execution_count": null,
   "id": "033bdd72",
   "metadata": {},
   "outputs": [],
   "source": [
    "rows = []\n",
    "for sym in TICKERS:\n",
    "    c, o = get_cols(sym)\n",
    "    s = align_next_bar(signal_sma_crossover(c, fast=SMA_FAST, slow=SMA_SLOW))\n",
    "    bt = run_backtest(c, s, open_=o, initial_cash=INITIAL_CASH, fee_bps=FEE_BPS, slippage_bps=SLIP_BPS)\n",
    "    summ = summarize_performance(bt[\"equity\"])\n",
    "    rows.append({\"symbol\": sym, **summ})\n",
    "\n",
    "pd.DataFrame(rows)"
   ]
  },
  {
   "cell_type": "markdown",
   "id": "14306e5a",
   "metadata": {},
   "source": [
    "Assumptions: daily data, next-bar execution (Open if available), long/flat, fees in bps, no leverage/shorting, float shares.\n",
    "\n",
    "Limitations: no intraday fills, simple slippage model, no borrow costs, slow signals may underperform in choppy markets.\n",
    "\n",
    "Next steps: parameter grid search, portfolio of multiple tickers, risk targeting (vol parity), walk-forward split."
   ]
  }
 ],
 "metadata": {
  "kernelspec": {
   "display_name": "venv",
   "language": "python",
   "name": "python3"
  },
  "language_info": {
   "name": "python",
   "version": "3.9.7"
  }
 },
 "nbformat": 4,
 "nbformat_minor": 5
}
